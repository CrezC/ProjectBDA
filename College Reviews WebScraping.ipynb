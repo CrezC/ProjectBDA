{
 "cells": [
  {
   "cell_type": "markdown",
   "id": "c5db2be6-33aa-407b-b9b8-253ecb1952b6",
   "metadata": {},
   "source": [
    "# College Reviews Web Scraping Tool\n",
    "\n",
    "This notebook automates the collection of college reviews using Selenium WebDriver. It processes a list of universities and extracts review data from web sources.\n",
    "\n",
    "## Setup\n",
    "Initialize the WebDriver and prepare the data structure for scraping."
   ]
  },
  {
   "cell_type": "code",
   "execution_count": 1,
   "id": "43d92a4b",
   "metadata": {},
   "outputs": [],
   "source": [
    "from collegeReviews_webScraper import WebScraper_CR\n",
    "import pandas as pd\n",
    "\n",
    "# Load the DataFrame (replace this with the actual DataFrame loading code)\n",
    "df = pd.DataFrame({\n",
    "    'University': [\n",
    "        'Cameron University', 'Southeastern Oklahoma State University'\n",
    "    ]\n",
    "})"
   ]
  },
  {
   "cell_type": "markdown",
   "id": "8c512b4c-721c-4db6-a7af-56e2e26b210b",
   "metadata": {},
   "source": [
    "## Data Collection\n",
    "Execute the scraping operation. This will:\n",
    "- Process each university in the DataFrame\n",
    "- Collect available reviews\n",
    "- Store the data in a structured format"
   ]
  },
  {
   "cell_type": "code",
   "execution_count": null,
   "id": "80349843-a5bf-4f38-a8bb-9ae28f9a7c7e",
   "metadata": {},
   "outputs": [],
   "source": [
    "# Initialize the scraper\n",
    "driver_path = r'D:\\Work\\chrome driver\\chromedriver-win64\\chromedriver.exe'\n",
    "scraper = WebScraper_CR(driver_path)\n",
    "\n",
    "# Scrape reviews\n",
    "scraper.scrape_reviews(df)\n"
   ]
  },
  {
   "cell_type": "markdown",
   "id": "6538b048-3046-4c3f-908b-4434a9ab7537",
   "metadata": {},
   "source": [
    "## Save Results\n",
    "Export the collected review data to an Excel file for further analysis."
   ]
  },
  {
   "cell_type": "code",
   "execution_count": null,
   "id": "ccf21fd6",
   "metadata": {},
   "outputs": [],
   "source": [
    "# Save reviews\n",
    "scraper.save_reviews('data/generated/University Reviews.xlsx')\n",
    "\n",
    "# Close the scraper\n",
    "scraper.close()"
   ]
  }
 ],
 "metadata": {
  "kernelspec": {
   "display_name": ".venv",
   "language": "python",
   "name": "python3"
  },
  "language_info": {
   "codemirror_mode": {
    "name": "ipython",
    "version": 3
   },
   "file_extension": ".py",
   "mimetype": "text/x-python",
   "name": "python",
   "nbconvert_exporter": "python",
   "pygments_lexer": "ipython3",
   "version": "3.12.5"
  }
 },
 "nbformat": 4,
 "nbformat_minor": 5
}
